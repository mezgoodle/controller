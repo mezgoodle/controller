{
  "cells": [
    {
      "cell_type": "markdown",
      "source": [
        "# Опис програми"
      ],
      "metadata": {
        "id": "m68SioIAgAcN"
      }
    },
    {
      "cell_type": "markdown",
      "source": [
        "## Загальні відомості:\n",
        "\n",
        "* **Назва проекту**: розподілена система керування.\n",
        "* **Короткий опис**: цей код реалізує розподілену систему керування з кількома локальними системами керування (ЛСК), що координуються центральним координатором. Координатор обчислює уставки для кожної ЛСК на основі поточної інформації про стан системи, бажаних станів, вхідних даних та стану навколишнього середовища."
      ],
      "metadata": {
        "id": "4KuJFNJKiPjy"
      }
    },
    {
      "cell_type": "markdown",
      "source": [
        "## Структура коду"
      ],
      "metadata": {
        "id": "F3YfKyWmiWHj"
      }
    },
    {
      "cell_type": "markdown",
      "source": [
        "### Класи\n",
        "\n",
        "* **Coordinator** (Абстрактний): визначає базову структуру та функціональність координатора, включаючи комунікацію через порти, кодування/декодування даних та абстрактний метод для розрахунку уставок.\n",
        "* **Setpoint** (Конкретний): реалізує алгоритм координації для розрахунку уставок на основі моделі системи, оцінки та прогнозування параметрів, оптимізації уставки та перевірки критерію оптимальності.\n",
        "* **QueueVisualization**: відповідає за візуалізацію черги даних, використовуючи Tkinter для відображення інформації у таблиці."
      ],
      "metadata": {
        "id": "5UvDPxbziiF7"
      }
    },
    {
      "cell_type": "markdown",
      "source": [
        "### Ключові змінні\n",
        "\n",
        "* **num_parts**: кількість ЛСК у системі.\n",
        "* **influence_matrix**: матриця, що описує взаємодію між ЛСК.\n",
        "* **resource_vector**: вектор, що описує ресурсоємність кожної ЛСК.\n",
        "* **data_queue**: черга для зберігання даних, отриманих від ЛСК та сенсорів."
      ],
      "metadata": {
        "id": "uicmthy7ij3T"
      }
    },
    {
      "cell_type": "markdown",
      "source": [
        "### Файли\n",
        "\n",
        "* **config.json**: файл конфігурації системи, що містить параметри, такі як кількість ЛСК, матриця взаємодії та вектор ресурсоємності."
      ],
      "metadata": {
        "id": "Hpgpk4tsiYvq"
      }
    },
    {
      "cell_type": "markdown",
      "source": [
        "## Алгоритм координації\n",
        "\n",
        "Клас **Setpoint** реалізує алгоритм координації, що складається з таких кроків:\n",
        "\n",
        "1. Отримання даних з черги (поточні стани, бажані стани, вхідні дані, попередні уставки, стан середовища).\n",
        "2. Моделювання системи на основі поточних станів, вхідних даних та стану середовища.\n",
        "3. Оцінка параметрів системи на основі моделі та попередніх даних.\n",
        "4. Прогнозування майбутніх значень параметрів.\n",
        "5. Оптимізація уставки для кожної ЛСК з урахуванням прогнозованих параметрів та бажаних станів.\n",
        "6. Перевірка критерію оптимальності для отриманої уставки."
      ],
      "metadata": {
        "id": "LAmor8dhivOx"
      }
    },
    {
      "cell_type": "markdown",
      "source": [
        "## Комунікація та обмін даними\n",
        "\n",
        "Координатор має порти для:\n",
        "\n",
        "* Сенсорів кожної ЛСК.\n",
        "* Сенсора стану середовища.\n",
        "* Комунікації з іншими ЛСК.\n",
        "* Зв'язку з регулятором."
      ],
      "metadata": {
        "id": "jqAy7hluiw2j"
      }
    },
    {
      "cell_type": "markdown",
      "source": [
        "## Формат даних\n",
        "\n",
        "* Дані кодуються/декодуються у бінарний формат з фіксованою точкою (16 біт, Q8.8).\n",
        "\n",
        "* Черга даних: використовується черга data_queue для зберігання даних, отриманих від ЛСК та сенсорів."
      ],
      "metadata": {
        "id": "Uds2qrJ3iyaq"
      }
    },
    {
      "cell_type": "markdown",
      "source": [
        "## Візуалізація стану черги\n",
        "\n",
        "* Інструменти: Tkinter.\n",
        "\n",
        "* Відображувані дані: візуалізується вміст черги даних, включаючи поточні стани, бажані стани, вхідні дані, попередні уставки та стан середовища.\n",
        "\n",
        "* Функціональність: візуалізація періодично оновлюється для відображення змін у файлі, що містить дані черги.\n"
      ],
      "metadata": {
        "id": "UrsMlxqYfu-L"
      }
    },
    {
      "cell_type": "markdown",
      "source": [
        "# Програмний код"
      ],
      "metadata": {
        "id": "G6_BIVeZi1ep"
      }
    },
    {
      "cell_type": "markdown",
      "source": [
        "## Імпортування необхідних бібліотек"
      ],
      "metadata": {
        "id": "e8ocKGthi67b"
      }
    },
    {
      "cell_type": "code",
      "execution_count": 1,
      "metadata": {
        "id": "JI1NKv7TUwYH"
      },
      "outputs": [],
      "source": [
        "import queue\n",
        "import numpy as np\n",
        "import json\n",
        "import struct\n",
        "from abc import ABC, abstractmethod"
      ]
    },
    {
      "cell_type": "code",
      "execution_count": 2,
      "metadata": {
        "id": "34ptF9prUwYK"
      },
      "outputs": [],
      "source": [
        "from random import randint"
      ]
    },
    {
      "cell_type": "code",
      "source": [
        "import tkinter as tk\n",
        "from tkinter import ttk\n",
        "import os"
      ],
      "metadata": {
        "id": "WlfIOi0JzrWR"
      },
      "execution_count": 3,
      "outputs": []
    },
    {
      "cell_type": "markdown",
      "source": [
        "## Основний клас - Координатор"
      ],
      "metadata": {
        "id": "a987CR09i_c6"
      }
    },
    {
      "cell_type": "code",
      "execution_count": 4,
      "metadata": {
        "id": "lTkeVfCsUwYK"
      },
      "outputs": [],
      "source": [
        "class Coordinator(ABC):\n",
        "    def __init__(self, config_file, coordinator_index, filename):\n",
        "        # Збережіть ім'я файлу для зберігання даних\n",
        "        self.filename = filename\n",
        "        # Завантаження конфігурації\n",
        "        with open(config_file) as f:\n",
        "            config = json.load(f)\n",
        "        # Зчитуваня розмірності й інші параметри з конфігурації\n",
        "        self.num_parts = config[\"num_parts\"]\n",
        "        self.influence_matrix = np.array(config[\"influence_matrix\"])\n",
        "        self.resource_vector = np.array(config[\"resource_vector\"])\n",
        "        assert len(self.resource_vector) == self.num_parts, \"Розмірності ресурсоємності не співпадають\"\n",
        "        assert self.influence_matrix.shape == (self.num_parts, self.num_parts), \"Розмірності матриці взаємодії не співпадають\"\n",
        "\n",
        "        # Індекс координатора\n",
        "        self.coordinator_index = coordinator_index\n",
        "\n",
        "        # Ініціалізація черги\n",
        "        self.data_queue = queue.Queue(maxsize=self.num_parts)\n",
        "\n",
        "        # Ініціалізація портів (замініть на власну реалізацію)\n",
        "        self.sensor_port = self._initialize_sensor_port()\n",
        "        self.environment_port = self._initialize_environment_port()\n",
        "        self.communication_ports = self._initialize_communication_ports()\n",
        "        self.regulator_port = self._initialize_regulator_port()\n",
        "\n",
        "        # Отримання початкових даних\n",
        "        current_state = self._receive_from_sensor()\n",
        "        environment_state = self._receive_from_environment_sensor()\n",
        "\n",
        "        # Створення початкового вектора даних\n",
        "        initial_data = np.zeros(4 * self.num_parts + 2)\n",
        "        initial_data[self.coordinator_index] = current_state\n",
        "        initial_data[-1] = environment_state\n",
        "        initial_data[-2] = self.num_parts\n",
        "\n",
        "        # Додавання даних в чергу\n",
        "        self.data_queue.put(initial_data)\n",
        "\n",
        "    def _initialize_sensor_port(self) -> int:\n",
        "        # ... реалізація ініціалізації порту для сенсора\n",
        "        return randint(1, 3)\n",
        "\n",
        "    def _initialize_environment_port(self) -> int:\n",
        "        # ... реалізація ініціалізації порту для сенсора оточуючого середовища\n",
        "        return randint(1, 3)\n",
        "\n",
        "    def _initialize_communication_ports(self) -> list[int]:\n",
        "        # ... реалізація ініціалізації портів для зв'язку з іншими ЛСК\n",
        "        return [randint(1, 3) for _ in randint(1, 10)]\n",
        "\n",
        "    def _initialize_regulator_port(self) -> int:\n",
        "        # ... реалізація ініціалізації порту для зв'язку з регулятором\n",
        "        return randint(1, 3)\n",
        "\n",
        "    def _receive_from_sensor(self, port_index=0) -> int:\n",
        "        # ... реалізація отримання даних від сенсора через порт\n",
        "        return randint(port_index, 3)\n",
        "\n",
        "    def _receive_from_environment_sensor(self) -> int:\n",
        "        # ... реалізація отримання даних від сенсора оточуючого середовища через порт\n",
        "        return randint(1, 3)\n",
        "\n",
        "    def receive_data(self, data_source_index):\n",
        "        # Тимчасова реалізація отримання даних\n",
        "        decoded_data = self.temp_get_data()\n",
        "        # # Отримання даних від іншої ЛСК через порт\n",
        "        # vector = self._receive_from_communication_port(data_source_index)\n",
        "        # # Декодування та додавання в чергу\n",
        "        # # ...\n",
        "        # # Приклад:\n",
        "        # decoded_data = self._decode_data(vector)\n",
        "        if self.data_queue.full():\n",
        "            # Обробка ситуації, коли черга повна (наприклад, видалення найстарішого елемента)\n",
        "            self.data_queue.get()\n",
        "        self.data_queue.put(decoded_data)\n",
        "        # Додати дані до файлу\n",
        "        with open(self.filename, 'ab') as f:\n",
        "            np.save(f, decoded_data, allow_pickle=True)\n",
        "\n",
        "    def temp_get_data(self):\n",
        "        data = np.zeros(4 * self.num_parts + 2)\n",
        "        data[self.coordinator_index] = int(input(\"Enter current state: \"))\n",
        "        data[-1] = int(input(\"Enter environment state: \"))\n",
        "        data[-2] = self.num_parts\n",
        "        return data\n",
        "\n",
        "\n",
        "    def _receive_from_communication_port(self, port_index):\n",
        "        # ... реалізація отримання даних від іншої ЛСК через порт\n",
        "        return self._receive_from_sensor(port_index)\n",
        "\n",
        "    def send_data(self, data):\n",
        "        # ... кодування та відправка даних іншим ЛСК\n",
        "        for port in self.communication_ports:\n",
        "            binary_data = self._encode_data(data)\n",
        "            self._send_to_communication_port(port, binary_data)\n",
        "\n",
        "    def _send_to_communication_port(self, port, data):\n",
        "        # ... реалізація відправки даних іншим ЛСК через порт\n",
        "        pass\n",
        "\n",
        "    def send_setpoint(self, setpoint):\n",
        "        # ... кодування уставки (як раніше)\n",
        "        vector = self._decode_data(setpoint)\n",
        "        self._send_to_regulator_port(vector)\n",
        "\n",
        "    def _send_to_regulator_port(self, data):\n",
        "        # ... реалізація відправки уставки на регулятор через порт\n",
        "        pass\n",
        "\n",
        "    def _encode_data(self, data):\n",
        "        # Конвертація в бінарний формат з фіксованою точкою (16 біт, Q8.8)\n",
        "        binary_data = b''.join(struct.pack('<h', int(x * 256)) for x in data)\n",
        "        return binary_data\n",
        "\n",
        "    def _decode_data(self, binary_data):\n",
        "        # Конвертація з бінарного формату з фіксованою точкою (16 біт, Q8.8)\n",
        "        data = np.array(struct.unpack('<' + 'h'*len(binary_data)//2, binary_data)) / 256\n",
        "        return data\n",
        "\n",
        "    def coordination_function(self):\n",
        "        # Отримання даних з черги\n",
        "        data = self.data_queue.get()\n",
        "        # Обчислення уставки\n",
        "        # ...\n",
        "        # Приклад:\n",
        "        setpoint = self.calculate_setpoint_for_LSC(data)\n",
        "        # Кодування уставки в бінарний формат\n",
        "        # ...\n",
        "        binary_output = self._encode_data(setpoint)\n",
        "        # Append setpoint to the file\n",
        "        with open(self.filename, 'ab') as f:\n",
        "            np.save(f, binary_output, allow_pickle=True)\n",
        "        return binary_output\n",
        "\n",
        "    @abstractmethod\n",
        "    def calculate_setpoint_for_LSC(self):\n",
        "        pass"
      ]
    },
    {
      "cell_type": "markdown",
      "source": [
        "## Реалізація класу Setpoint на базі Coordinator"
      ],
      "metadata": {
        "id": "rFOhqtVVjEyS"
      }
    },
    {
      "cell_type": "code",
      "execution_count": 5,
      "metadata": {
        "id": "FCmwxUleUwYL"
      },
      "outputs": [],
      "source": [
        "class Setpoint(Coordinator):\n",
        "    def calculate_setpoint_for_LSC(self):\n",
        "        # Отримання даних з черги\n",
        "        data = self.data_queue.get()\n",
        "        current_states = data[:self.num_parts]\n",
        "        desired_states = data[self.num_parts : 2*self.num_parts]\n",
        "        input_x = data[2*self.num_parts : 3*self.num_parts]\n",
        "        previous_setpoints = data[3*self.num_parts : 4*self.num_parts]\n",
        "        environment_state = data[-1]\n",
        "\n",
        "        # Приклади методів координації (з використанням розпакованих даних)\n",
        "\n",
        "        # 1. Модель системи\n",
        "        system_model = self._system_model(current_states, input_x, environment_state)\n",
        "\n",
        "        # 2. Оцінювання параметрів\n",
        "        estimated_parameters = self._estimate_parameters(system_model, current_states, previous_setpoints)\n",
        "\n",
        "        # 3. Прогнозування параметрів\n",
        "        predicted_parameters = self._predict_parameters(estimated_parameters)\n",
        "\n",
        "        # 4. Оптимізація уставки\n",
        "        optimized_setpoint = self._optimize_setpoint(system_model, predicted_parameters, desired_states)\n",
        "\n",
        "        # 5. Критерій оптимальності (перевірка)\n",
        "        if not self._check_optimality_criteria(optimized_setpoint, system_model, desired_states):\n",
        "            # ... обробка ситуації, коли критерій оптимальності не виконаний\n",
        "            pass\n",
        "\n",
        "        return optimized_setpoint\n",
        "\n",
        "    def _system_model(self, current_states, input_x, environment_state):\n",
        "        # ... реалізація моделі системи\n",
        "        return randint(1, 3)\n",
        "\n",
        "    def _estimate_parameters(self, system_model, current_states, previous_setpoints):\n",
        "        # ... реалізація оцінювання параметрів\n",
        "        return randint(1, 3)\n",
        "\n",
        "    def _predict_parameters(self, estimated_parameters):\n",
        "        # ... реалізація прогнозування параметрів\n",
        "        return randint(1, 3)\n",
        "\n",
        "    def _optimize_setpoint(self, system_model, predicted_parameters, desired_states):\n",
        "        # ... реалізація оптимізації уставки\n",
        "        return randint(1, 3)\n",
        "\n",
        "    def _check_optimality_criteria(self, setpoint, system_model, desired_states):\n",
        "        # ... реалізація перевірки критерію оптимальності\n",
        "        return randint(1, 3)"
      ]
    },
    {
      "cell_type": "markdown",
      "source": [
        "## Програмування візуалізації стану черги"
      ],
      "metadata": {
        "id": "p3WsLdrDjLpy"
      }
    },
    {
      "cell_type": "code",
      "source": [
        "class QueueVisualization:\n",
        "    def __init__(self, master, filename):\n",
        "        self.master = master\n",
        "        self.filename = filename\n",
        "\n",
        "        # Створюємо таблицю для відображення даних\n",
        "        self.tree = ttk.Treeview(master, columns=(\"current_states\", \"desired_states\", \"input_x\", \"previous_setpoints\", \"environment_state\",), show=\"headings\")\n",
        "        self.tree.heading(\"current_states\", text=\"current_states\")\n",
        "        self.tree.heading(\"desired_states\", text=\"desired_states\")\n",
        "        self.tree.heading(\"input_x\", text=\"input_x\")\n",
        "        self.tree.heading(\"previous_setpoints\", text=\"previous_setpoints\")\n",
        "        self.tree.heading(\"environment_state\", text=\"environment_state\")\n",
        "        self.tree.pack()\n",
        "\n",
        "        # Отримуємо час останньої модифікації файлу, завантажуємо і відображаємо чергу\n",
        "        self.last_modified_time = os.path.getmtime(filename)\n",
        "        self.load_queue_and_display()\n",
        "\n",
        "        # Перевіряємо зміни у файлі кожну секунду\n",
        "        self.check_file_changes()\n",
        "\n",
        "    def load_queue_and_display(self):\n",
        "        # Завантажуємо чергу з файлу та відображаємо її в таблиці\n",
        "        with open(self.filename, 'rb') as f:\n",
        "            data_list = np.load(f, allow_pickle=True)\n",
        "\n",
        "            # Очищаємо поточний вміст таблиці\n",
        "            for item in self.tree.get_children():\n",
        "                self.tree.delete(item)\n",
        "\n",
        "            # Проходимося по кожному елементу черги та відображаємо їх\n",
        "            for idx, data in enumerate(data_list):\n",
        "                num_parts = int(data[-2])\n",
        "                current_states = data[:num_parts]\n",
        "                desired_states = data[num_parts : 2*num_parts]\n",
        "                input_x = data[2*num_parts : 3*num_parts]\n",
        "                previous_setpoints = data[3*num_parts : 4*num_parts]\n",
        "                environment_state = data[-1]\n",
        "\n",
        "                self.tree.insert(\"\", \"end\", text=str(idx+1), values=(current_states, desired_states, input_x, previous_setpoints, environment_state))\n",
        "\n",
        "    def check_file_changes(self):\n",
        "        # Перевіряємо зміни у файлі. Якщо файл змінився, оновлюємо відображення даних\n",
        "        current_modified_time = os.path.getmtime(self.filename)\n",
        "        if current_modified_time != self.last_modified_time:\n",
        "            self.last_modified_time = current_modified_time\n",
        "            self.load_queue_and_display()\n",
        "\n",
        "        # Перевіряємо зміни у файлі кожну секунду\n",
        "        self.master.after(1000, self.check_file_changes)\n"
      ],
      "metadata": {
        "id": "hAx84eMpzkzm"
      },
      "execution_count": 6,
      "outputs": []
    },
    {
      "cell_type": "markdown",
      "source": [
        "## Приклад відображення"
      ],
      "metadata": {
        "id": "_YqZ3WlIkcGP"
      }
    },
    {
      "cell_type": "markdown",
      "source": [
        "![image.png](data:image/png;base64,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)"
      ],
      "metadata": {
        "id": "Fzn6SWEL0Bj3"
      }
    },
    {
      "cell_type": "markdown",
      "source": [
        "# Приклад використання"
      ],
      "metadata": {
        "id": "vd_Kt9Na0AW_"
      }
    },
    {
      "cell_type": "markdown",
      "source": [
        "У коді методу receive_data було симульовано отримання даних(також отримання значень поточного та стану середовища) та додача їх у бінарному вигляді до файлу. Метод, що відповідає за відображення даних виводив їх у консоль.\n",
        "\n",
        "На рисунку нижче ліва консоль відповідає за введення значень станів, а консоль справа виводить стан черги. В один момент часу запущено два скрипти."
      ],
      "metadata": {
        "id": "JLFG_VEWkfKa"
      }
    },
    {
      "cell_type": "markdown",
      "source": [
        "```python\n",
        "s = Setpoint(\"config.json\", 0, \"test_data.npy\")\n",
        "while True:\n",
        "    from time import sleep\n",
        "\n",
        "    s.receive_data(0)\n",
        "    sleep(3)\n",
        "\n",
        "q = QueueVisualization(\"config.json\", \"test_data.npy\")\n",
        "```\n",
        "\n",
        "![controller_example.PNG](data:image/png;base64,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)"
      ],
      "metadata": {
        "id": "Jymrk0iFzH_x"
      }
    }
  ],
  "metadata": {
    "kernelspec": {
      "display_name": ".venv",
      "language": "python",
      "name": "python3"
    },
    "language_info": {
      "codemirror_mode": {
        "name": "ipython",
        "version": 3
      },
      "file_extension": ".py",
      "mimetype": "text/x-python",
      "name": "python",
      "nbconvert_exporter": "python",
      "pygments_lexer": "ipython3",
      "version": "3.11.4"
    },
    "colab": {
      "provenance": [],
      "toc_visible": true
    }
  },
  "nbformat": 4,
  "nbformat_minor": 0
}