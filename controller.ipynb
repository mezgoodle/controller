{
  "cells": [
    {
      "cell_type": "markdown",
      "metadata": {
        "id": "m68SioIAgAcN"
      },
      "source": [
        "# Опис програми"
      ]
    },
    {
      "cell_type": "markdown",
      "metadata": {
        "id": "4KuJFNJKiPjy"
      },
      "source": [
        "## Загальні відомості:\n",
        "\n",
        "* **Назва проекту**: розподілена система керування.\n",
        "* **Короткий опис**: цей код реалізує функціональність координатора. Координатор обчислює уставки на основі поточної інформації про стан системи, бажаних станів, вхідних даних та стану навколишнього середовища."
      ]
    },
    {
      "cell_type": "markdown",
      "metadata": {
        "id": "F3YfKyWmiWHj"
      },
      "source": [
        "## Структура коду"
      ]
    },
    {
      "cell_type": "markdown",
      "metadata": {
        "id": "5UvDPxbziiF7"
      },
      "source": [
        "### Класи\n",
        "\n",
        "* **Coordinator** (Абстрактний): визначає базову структуру та функціональність координатора, включаючи комунікацію через порти, кодування/декодування даних та абстрактний метод для розрахунку уставок.\n",
        "* **Setpoint** (Конкретний): реалізує алгоритм координації для розрахунку уставок на основі моделі системи, оцінки та прогнозування параметрів, оптимізації уставки та перевірки критерію оптимальності."
      ]
    },
    {
      "cell_type": "markdown",
      "metadata": {
        "id": "uicmthy7ij3T"
      },
      "source": [
        "### Ключові змінні\n",
        "\n",
        "* **num_parts**: кількість ЛСК у системі.\n",
        "* **influence_matrix**: матриця, що описує взаємодію між ЛСК.\n",
        "* **resource_vector**: вектор, що описує ресурсоємність кожної ЛСК.\n",
        "* **data_queue**: черга для зберігання даних, отриманих від ЛСК та сенсорів."
      ]
    },
    {
      "cell_type": "markdown",
      "metadata": {
        "id": "Hpgpk4tsiYvq"
      },
      "source": [
        "### Файли\n",
        "\n",
        "* **config.json**: файл конфігурації системи, що містить параметри, такі як кількість ЛСК, матриця взаємодії та вектор ресурсоємності."
      ]
    },
    {
      "cell_type": "markdown",
      "metadata": {
        "id": "LAmor8dhivOx"
      },
      "source": [
        "## Алгоритм координації\n",
        "\n",
        "Клас **Setpoint** реалізує алгоритм координації, що складається з таких кроків:\n",
        "\n",
        "1. Отримання даних з черги (поточні стани, бажані стани, вхідні дані, попередні уставки, стан середовища).\n",
        "2. Моделювання системи на основі поточних станів, вхідних даних та стану середовища.\n",
        "3. Оцінка параметрів системи на основі моделі та попередніх даних.\n",
        "4. Прогнозування майбутніх значень параметрів.\n",
        "5. Оптимізація уставки для кожної ЛСК з урахуванням прогнозованих параметрів та бажаних станів.\n",
        "6. Перевірка критерію оптимальності для отриманої уставки."
      ]
    },
    {
      "cell_type": "markdown",
      "metadata": {
        "id": "jqAy7hluiw2j"
      },
      "source": [
        "## Комунікація та обмін даними\n",
        "\n",
        "Координатор має порти для:\n",
        "\n",
        "* Сенсорів кожної ЛСК.\n",
        "* Сенсора стану середовища.\n",
        "* Комунікації з іншими ЛСК.\n",
        "* Зв'язку з регулятором."
      ]
    },
    {
      "cell_type": "markdown",
      "metadata": {
        "id": "Uds2qrJ3iyaq"
      },
      "source": [
        "## Формат даних\n",
        "\n",
        "* Дані кодуються/декодуються у бінарний формат з фіксованою точкою (16 біт, Q8.8).\n",
        "\n",
        "* Черга даних: використовується черга data_queue для зберігання даних, отриманих від ЛСК та сенсорів."
      ]
    },
    {
      "cell_type": "markdown",
      "metadata": {
        "id": "UrsMlxqYfu-L"
      },
      "source": [
        "## Візуалізація стану черги\n",
        "\n",
        "* Інструменти: Tkinter.\n",
        "\n",
        "* Відображувані дані: візуалізується вміст черги даних, включаючи поточні стани, бажані стани, вхідні дані, попередні уставки та стан середовища.\n",
        "\n",
        "* Функціональність: візуалізація періодично оновлюється для відображення змін у файлі, що містить дані черги.\n"
      ]
    },
    {
      "cell_type": "markdown",
      "metadata": {
        "id": "G6_BIVeZi1ep"
      },
      "source": [
        "# Програмний код"
      ]
    },
    {
      "cell_type": "markdown",
      "metadata": {
        "id": "e8ocKGthi67b"
      },
      "source": [
        "## Імпортування необхідних бібліотек"
      ]
    },
    {
      "cell_type": "code",
      "execution_count": 1,
      "metadata": {
        "id": "JI1NKv7TUwYH"
      },
      "outputs": [],
      "source": [
        "import queue\n",
        "import numpy as np\n",
        "import json\n",
        "import struct\n",
        "from abc import ABC, abstractmethod"
      ]
    },
    {
      "cell_type": "code",
      "execution_count": 2,
      "metadata": {
        "id": "34ptF9prUwYK"
      },
      "outputs": [],
      "source": [
        "from random import randint"
      ]
    },
    {
      "cell_type": "code",
      "execution_count": 3,
      "metadata": {
        "id": "WlfIOi0JzrWR"
      },
      "outputs": [],
      "source": [
        "import tkinter as tk\n",
        "from tkinter import ttk\n",
        "import os"
      ]
    },
    {
      "cell_type": "markdown",
      "metadata": {
        "id": "a987CR09i_c6"
      },
      "source": [
        "## Основний клас - Координатор"
      ]
    },
    {
      "cell_type": "code",
      "execution_count": 4,
      "metadata": {
        "id": "lTkeVfCsUwYK"
      },
      "outputs": [],
      "source": [
        "class Coordinator(ABC):\n",
        "    def __init__(self, config_file, coordinator_index, filename):\n",
        "        # Збережіть ім'я файлу для зберігання даних\n",
        "        self.filename = filename\n",
        "        # Завантаження конфігурації\n",
        "        with open(config_file) as f:\n",
        "            config = json.load(f)\n",
        "        # Зчитуваня розмірності й інші параметри з конфігурації\n",
        "        self.num_parts = config[\"num_parts\"]\n",
        "        self.influence_matrix = np.array(config[\"influence_matrix\"])\n",
        "        self.resource_vector = np.array(config[\"resource_vector\"])\n",
        "        assert len(self.resource_vector) == self.num_parts, \"Розмірності ресурсоємності не співпадають\"\n",
        "        assert self.influence_matrix.shape == (self.num_parts, self.num_parts), \"Розмірності матриці взаємодії не співпадають\"\n",
        "\n",
        "        # Індекс координатора\n",
        "        self.coordinator_index = coordinator_index\n",
        "\n",
        "        # Ініціалізація черги\n",
        "        self.data_queue = queue.Queue(maxsize=self.num_parts)\n",
        "\n",
        "        # Ініціалізація портів (замініть на власну реалізацію)\n",
        "        self.sensor_port = self._initialize_sensor_port()\n",
        "        self.environment_port = self._initialize_environment_port()\n",
        "        self.communication_ports = self._initialize_communication_ports()\n",
        "        self.regulator_port = self._initialize_regulator_port()\n",
        "\n",
        "        # Отримання початкових даних\n",
        "        current_state = self._receive_from_sensor()\n",
        "        environment_state = self._receive_from_environment_sensor()\n",
        "\n",
        "        # Створення початкового вектора даних\n",
        "        initial_data = np.zeros(4 * self.num_parts + 2)\n",
        "        initial_data[self.coordinator_index] = current_state\n",
        "        initial_data[-1] = environment_state\n",
        "        initial_data[-2] = self.num_parts\n",
        "\n",
        "        # Додавання даних в чергу\n",
        "        self.data_queue.put(initial_data)\n",
        "\n",
        "    def _initialize_sensor_port(self) -> int:\n",
        "        # ... реалізація ініціалізації порту для сенсора\n",
        "        return randint(1, 3)\n",
        "\n",
        "    def _initialize_environment_port(self) -> int:\n",
        "        # ... реалізація ініціалізації порту для сенсора оточуючого середовища\n",
        "        return randint(1, 3)\n",
        "\n",
        "    def _initialize_communication_ports(self) -> list[int]:\n",
        "        # ... реалізація ініціалізації портів для зв'язку з іншими ЛСК\n",
        "        return [randint(1, 3) for _ in randint(1, 10)]\n",
        "\n",
        "    def _initialize_regulator_port(self) -> int:\n",
        "        # ... реалізація ініціалізації порту для зв'язку з регулятором\n",
        "        return randint(1, 3)\n",
        "\n",
        "    def _receive_from_sensor(self, port_index=0) -> int:\n",
        "        # ... реалізація отримання даних від сенсора через порт\n",
        "        return randint(port_index, 3)\n",
        "\n",
        "    def _receive_from_environment_sensor(self) -> int:\n",
        "        # ... реалізація отримання даних від сенсора оточуючого середовища через порт\n",
        "        return randint(1, 3)\n",
        "\n",
        "    def receive_data(self, data_source_index):\n",
        "        # # Отримання даних від іншої ЛСК через порт\n",
        "        vector = self._receive_from_communication_port(data_source_index)\n",
        "        # # Декодування та додавання в чергу\n",
        "        decoded_data = self._decode_data(vector)\n",
        "        if self.data_queue.full():\n",
        "            # Обробка ситуації, коли черга повна (наприклад, видалення найстарішого елемента)\n",
        "            self.data_queue.get()\n",
        "        self.data_queue.put(decoded_data)\n",
        "        # Додати дані до файлу\n",
        "        with open(self.filename, 'ab') as f:\n",
        "            np.save(f, decoded_data, allow_pickle=True)\n",
        "\n",
        "    def _receive_from_communication_port(self, port_index):\n",
        "        # ... реалізація отримання даних від іншої ЛСК через порт\n",
        "        return self._receive_from_sensor(port_index)\n",
        "\n",
        "    def send_data(self, data):\n",
        "        # ... кодування та відправка даних іншим ЛСК\n",
        "        for port in self.communication_ports:\n",
        "            binary_data = self._encode_data(data)\n",
        "            self._send_to_communication_port(port, binary_data)\n",
        "\n",
        "    def _send_to_communication_port(self, port, data):\n",
        "        # ... реалізація відправки даних іншим ЛСК через порт\n",
        "        pass\n",
        "\n",
        "    def send_setpoint(self, setpoint):\n",
        "        # ... кодування уставки (як раніше)\n",
        "        vector = self._decode_data(setpoint)\n",
        "        self._send_to_regulator_port(vector)\n",
        "\n",
        "    def _send_to_regulator_port(self, data):\n",
        "        # ... реалізація відправки уставки на регулятор через порт\n",
        "        pass\n",
        "\n",
        "    def _encode_data(self, data):\n",
        "        # Конвертація в бінарний формат з фіксованою точкою (16 біт, Q8.8)\n",
        "        binary_data = b''.join(struct.pack('<h', int(x * 256)) for x in data)\n",
        "        return binary_data\n",
        "\n",
        "    def _decode_data(self, binary_data):\n",
        "        # Конвертація з бінарного формату з фіксованою точкою (16 біт, Q8.8)\n",
        "        data = np.array(struct.unpack('<' + 'h'*len(binary_data)//2, binary_data)) / 256\n",
        "        return data\n",
        "\n",
        "    def coordination_function(self):\n",
        "        # Отримання даних з черги\n",
        "        data = self.data_queue.get()\n",
        "        # Обчислення уставки\n",
        "        setpoint = self.calculate_setpoint_for_LSC(data)\n",
        "        # Кодування уставки в бінарний формат\n",
        "        binary_output = self._encode_data(setpoint)\n",
        "        # Append setpoint to the file\n",
        "        with open(self.filename, 'ab') as f:\n",
        "            np.save(f, binary_output, allow_pickle=True)\n",
        "        return binary_output\n",
        "\n",
        "    @abstractmethod\n",
        "    def calculate_setpoint_for_LSC(self):\n",
        "        pass"
      ]
    },
    {
      "cell_type": "markdown",
      "metadata": {
        "id": "rFOhqtVVjEyS"
      },
      "source": [
        "## Реалізація класу Setpoint на базі Coordinator"
      ]
    },
    {
      "cell_type": "code",
      "execution_count": 5,
      "metadata": {
        "id": "FCmwxUleUwYL"
      },
      "outputs": [],
      "source": [
        "class Setpoint(Coordinator):\n",
        "    def calculate_setpoint_for_LSC(self):\n",
        "        # Отримання даних з черги\n",
        "        data = self.data_queue.get()\n",
        "        current_states = data[:self.num_parts]\n",
        "        desired_states = data[self.num_parts : 2*self.num_parts]\n",
        "        input_x = data[2*self.num_parts : 3*self.num_parts]\n",
        "        previous_setpoints = data[3*self.num_parts : 4*self.num_parts]\n",
        "        environment_state = data[-1]\n",
        "\n",
        "        # Приклади методів координації (з використанням розпакованих даних)\n",
        "\n",
        "        # 1. Модель системи\n",
        "        system_model = self._system_model(current_states, input_x, environment_state)\n",
        "\n",
        "        # 2. Оцінювання параметрів\n",
        "        estimated_parameters = self._estimate_parameters(system_model, current_states, previous_setpoints)\n",
        "\n",
        "        # 3. Прогнозування параметрів\n",
        "        predicted_parameters = self._predict_parameters(estimated_parameters)\n",
        "\n",
        "        # 4. Оптимізація уставки\n",
        "        optimized_setpoint = self._optimize_setpoint(system_model, predicted_parameters, desired_states)\n",
        "\n",
        "        # 5. Критерій оптимальності (перевірка)\n",
        "        if not self._check_optimality_criteria(optimized_setpoint, system_model, desired_states):\n",
        "            # ... обробка ситуації, коли критерій оптимальності не виконаний\n",
        "            pass\n",
        "\n",
        "        return optimized_setpoint\n",
        "\n",
        "    def _system_model(self, current_states, input_x, environment_state):\n",
        "        # ... реалізація моделі системи\n",
        "        return randint(1, 3)\n",
        "\n",
        "    def _estimate_parameters(self, system_model, current_states, previous_setpoints):\n",
        "        # ... реалізація оцінювання параметрів\n",
        "        return randint(1, 3)\n",
        "\n",
        "    def _predict_parameters(self, estimated_parameters):\n",
        "        # ... реалізація прогнозування параметрів\n",
        "        return randint(1, 3)\n",
        "\n",
        "    def _optimize_setpoint(self, system_model, predicted_parameters, desired_states):\n",
        "        # ... реалізація оптимізації уставки\n",
        "        return randint(1, 3)\n",
        "\n",
        "    def _check_optimality_criteria(self, setpoint, system_model, desired_states):\n",
        "        # ... реалізація перевірки критерію оптимальності\n",
        "        return randint(1, 3)"
      ]
    },
    {
      "cell_type": "markdown",
      "metadata": {
        "id": "_YqZ3WlIkcGP"
      },
      "source": [
        "## Приклад відображення"
      ]
    },
    {
      "cell_type": "markdown",
      "metadata": {
        "id": "Fzn6SWEL0Bj3"
      },
      "source": [
        "![image.png](data:image/png;base64,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)"
      ]
    },
    {
      "cell_type": "markdown",
      "metadata": {
        "id": "vd_Kt9Na0AW_"
      },
      "source": [
        "# Приклад використання"
      ]
    },
    {
      "cell_type": "markdown",
      "metadata": {},
      "source": [
        "Створіть файл конфігурації у форматі *.json.\n",
        "Наприклад:\n",
        "\n",
        "```json\n",
        "{\n",
        "  \"num_parts\": 5,\n",
        "  \"influence_matrix\": [\n",
        "    [1.0, 0.2, -0.1, 0.4, 0.1],\n",
        "    [0.3, 1.0, 0.2, 0.6, 0.9],\n",
        "    [-0.2, 0.1, 1.0, -0.1, 0.8],\n",
        "    [1, 1, 1, 1, 0.5],\n",
        "    [0.8, 0.6, 0.9, 0.4, 0.2]\n",
        "  ],\n",
        "  \"resource_vector\": [0.8, 1.2, 1.0, 1, 2]\n",
        "}\n",
        "```"
      ]
    },
    {
      "cell_type": "markdown",
      "metadata": {},
      "source": [
        "Запустіть файл simulation.py командою:\n",
        "\n",
        "```cmd\n",
        "python simulation.py\n",
        "```"
      ]
    }
  ],
  "metadata": {
    "colab": {
      "provenance": [],
      "toc_visible": true
    },
    "kernelspec": {
      "display_name": ".venv",
      "language": "python",
      "name": "python3"
    },
    "language_info": {
      "codemirror_mode": {
        "name": "ipython",
        "version": 3
      },
      "file_extension": ".py",
      "mimetype": "text/x-python",
      "name": "python",
      "nbconvert_exporter": "python",
      "pygments_lexer": "ipython3",
      "version": "3.11.4"
    }
  },
  "nbformat": 4,
  "nbformat_minor": 0
}
